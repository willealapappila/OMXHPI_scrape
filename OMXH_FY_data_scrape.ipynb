{
 "cells": [
  {
   "attachments": {},
   "cell_type": "markdown",
   "metadata": {},
   "source": [
    "## Scraping kauppalehti.fi for OMXH tickers and retrieving the FY data from Yahoo Finance\n",
    "Import packages"
   ]
  },
  {
   "cell_type": "code",
   "execution_count": 1,
   "metadata": {},
   "outputs": [],
   "source": [
    "import datetime as dt\n",
    "import pandas as pd\n",
    "\n",
    "import concurrent.futures as cf\n",
    "from yahoofinancials import YahooFinancials\n",
    "\n",
    "import re\n",
    "import ast\n",
    "import time\n",
    "import requests\n",
    "from bs4 import BeautifulSoup\n",
    "from selenium import webdriver"
   ]
  },
  {
   "cell_type": "code",
   "execution_count": 2,
   "metadata": {},
   "outputs": [],
   "source": [
    "omx_h = 'https://www.kauppalehti.fi/porssi/kurssit/XHEL'"
   ]
  },
  {
   "attachments": {},
   "cell_type": "markdown",
   "metadata": {},
   "source": [
    "Get list of stocks"
   ]
  },
  {
   "cell_type": "code",
   "execution_count": 3,
   "metadata": {},
   "outputs": [],
   "source": [
    "# header = {\n",
    "#     'User-Agent': 'Mozilla/5.0 (Windows NT 10.0; Win64; x64) AppleWebKit/537.36 (KHTML, like Gecko) Chrome/113.0.0.0 Safari/537.36',\n",
    "# }\n",
    "\n",
    "header = {\n",
    "    'User-Agent': 'Mozilla/5.0 (Macintosh; Intel Mac OS X 10_10_1) AppleWebKit/537.36 (KHTML, like Gecko) Chrome/39.0.2171.95 Safari/537.36',\n",
    "}"
   ]
  },
  {
   "attachments": {},
   "cell_type": "markdown",
   "metadata": {},
   "source": [
    "## Scraping\n",
    "Scrape the webpage to find stock tickers. We must use Selenium to open a Chrome browser and scroll down since kauppalehti.fi doesn't load the full html otherwise."
   ]
  },
  {
   "cell_type": "code",
   "execution_count": 10,
   "metadata": {},
   "outputs": [],
   "source": [
    "OMXH = []\n",
    "#res = requests.get(omx_h, headers=header)\n",
    "\n",
    "# Use Selenium to automate browser actions\n",
    "driver = webdriver.Chrome()  # Replace if using other than Chrome\n",
    "driver.get(omx_h)  \n",
    "\n",
    "# Define the amount of scrolling and the number of iterations\n",
    "scroll_pixels = 2000  # Adjust if needed\n",
    "scroll_iterations = 5  # Adjust if needed\n",
    "\n",
    "# Scroll down multiple times to fetch more content\n",
    "for i in range(scroll_iterations):\n",
    "    driver.execute_script(f\"window.scrollBy(0, {scroll_pixels});\")\n",
    "    driver.implicitly_wait(1)  # Wait for 1 second between each scroll iteration\n",
    "\n",
    "# Extract the complete page source\n",
    "page_source = driver.page_source\n",
    "\n",
    "# Parse the page source with Beautiful Soup\n",
    "soup = BeautifulSoup(page_source, \"html.parser\")\n",
    "\n",
    "# Close the browser\n",
    "driver.quit()\n",
    "\n",
    "divs = soup.findAll('a', {\"class\": [\"tmcl-__sc-18ro7st-3 suYgN\", \"tmcl-__sc-18ro7st-3 gFUoDG\"]})\n",
    "\n",
    "# print(divs)\n",
    "#print(soup.prettify())\n"
   ]
  },
  {
   "attachments": {},
   "cell_type": "markdown",
   "metadata": {},
   "source": [
    "Find tickers from the html code and construct a list out of them."
   ]
  },
  {
   "cell_type": "code",
   "execution_count": 5,
   "metadata": {},
   "outputs": [],
   "source": [
    "OMXH = []\n",
    "\n",
    "for i, val in enumerate(divs):\n",
    "    ticker = re.findall(r'/osake/.*[\"]\\s', str(val))[0]   # Find the part of the url after '/osake/' since this contains the ticker.\n",
    "    ticker = str(ticker).replace('/osake/', '').replace('\"', '').strip()    # Delete all the leftovers around the ticker\n",
    "    name = re.findall(r'>[^><]+[öäå]*<', str(val))[0]   # Same for the company names\n",
    "    name = str(name).replace('>', '').replace('<', '').strip()\n",
    "    OMXH.append(ticker)\n",
    "    \n",
    "\n",
    "# print(OMXH)\n",
    "# print(len(OMXH))\n"
   ]
  },
  {
   "attachments": {},
   "cell_type": "markdown",
   "metadata": {},
   "source": [
    "Add the .HE suffix and check for duplicates."
   ]
  },
  {
   "cell_type": "code",
   "execution_count": 6,
   "metadata": {},
   "outputs": [
    {
     "name": "stdout",
     "output_type": "stream",
     "text": [
      "['AFAGR.HE', 'AKTIA.HE', 'ALISA.HE', 'ALMA.HE', 'ANORA.HE', 'APETIT.HE', 'ASPO.HE', 'ACG1V.HE', 'ATRAV.HE', 'BIOBV.HE', 'BITTI.HE', 'BOREO.HE', 'CAPMAN.HE', 'CGCBV.HE', 'CAV1V.HE', 'CTY1S.HE', 'CTH1V.HE', 'CONSTI.HE', 'DIGIA.HE', 'DIGIGR.HE', 'DOV1V.HE', 'EEZY.HE', 'ELEAV.HE', 'ELISA.HE', 'PAMPALO.HE', 'ENEDO.HE', 'ENENTO.HE', 'ESENSE.HE', 'EQV1V.HE', 'ERIBR.HE', 'ETTE.HE', 'EVLI.HE', 'EXL1V.HE', 'FSECURE.HE', 'FIA1S.HE', 'FSKRS.HE', 'FORTUM.HE', 'GLA1V.HE', 'GOFORE.HE', 'HARVIA.HE', 'HKSAV.HE', 'HONBS.HE', 'HUH1V.HE', 'ILKKA1.HE', 'ILKKA2.HE', 'ICP1V.HE', 'IFA1V.HE', 'INVEST.HE', 'KAMUX.HE', 'KEMIRA.HE', 'KSLAV.HE', 'KESKOA.HE', 'KESKOB.HE', 'KELAS.HE', 'KHG.HE', 'KOJAMO.HE', 'KNEBV.HE', 'KCR.HE', 'KOSKI.HE', 'KREATE.HE', 'LAT1V.HE', 'LEHTO.HE', 'LL1SPAC.HE', 'MEKKO.HE', 'MARAS.HE', 'METSO.HE', 'METSA.HE', 'METSB.HE', 'MUSTI.HE', 'NESTE.HE', 'NIXU.HE', 'NOHO.HE', 'NOKIA.HE', 'TYRES.HE', 'NDA FI.HE', 'NLG1V.HE', 'OLVAS.HE', 'OMASP.HE', 'OPTOMED.HE', 'OKDAV.HE', 'OKDBV.HE', 'ORNAV.HE', 'ORNBV.HE', 'ORTHEX.HE', 'OUT1V.HE', 'OVARO.HE', 'PNA1V.HE', 'PIHLIS.HE', 'PON1V.HE', 'PUMU.HE', 'PURMO.HE', 'PUUILO.HE', 'QPR1V.HE', 'QTCOM.HE', 'RAIKV.HE', 'RAIVV.HE', 'RAP1V.HE', 'RAUTE.HE', 'REKA.HE', 'RELAIS.HE', 'REMEDY.HE', 'REG1V.HE', 'ROBIT.HE', 'ROVIO.HE', 'SAGCV.HE', 'SAMPO.HE', 'SANOMA.HE', 'SCANFL.HE', 'SIILI.HE', 'SITOWS.HE', 'SOLTEQ.HE', 'SOSI1.HE', 'SRV1V.HE', 'SSABAH.HE', 'SSABBH.HE', 'SSH1V.HE', 'STOCKA.HE', 'STEAV.HE', 'STERV.HE', 'SUY1V.HE', 'TAALA.HE', 'TNOM.HE', 'TALLINK.HE', 'TEM1V.HE', 'TLT1V.HE', 'TELIA1.HE', 'TTALO.HE', 'TIETO.HE', 'TOKMAN.HE', 'TRH1V.HE', 'TULAV.HE', 'UNITED.HE', 'UPM.HE', 'UPONOR.HE', 'VAIAS.HE', 'VALMT.HE', 'VALOE.HE', 'VERK.HE', 'VIK1V.HE', 'WETTERI.HE', 'WITH.HE', 'WUF1V.HE', 'WRT1V.HE', 'YIT.HE', 'ALBAV.HE', 'ALBBV.HE']\n"
     ]
    }
   ],
   "source": [
    "stocks = [stock + '.HE' for stock in OMXH]\n",
    "stocks_set = set(stocks)\n",
    "\n",
    "contains_duplicates = len(stocks) != len(stocks_set)\n",
    "if contains_duplicates:\n",
    "    print('Stock list contains duplicates!')\n",
    "\n",
    "print(stocks)"
   ]
  },
  {
   "attachments": {},
   "cell_type": "markdown",
   "metadata": {},
   "source": [
    "## Retrieving the data\n",
    "Use Yahoo Finance to retrieve the companies' FY (Fiscal Year) data."
   ]
  },
  {
   "cell_type": "code",
   "execution_count": 7,
   "metadata": {},
   "outputs": [],
   "source": [
    "balanceSheet = {}\n",
    "incomeStatement = {}\n",
    "cashStatement = {}\n",
    "\n",
    "def retrieve_stock_data(stock):\n",
    "\n",
    "    try:\n",
    "        print(stock)\n",
    "        yahoo_financials = YahooFinancials(stock)\n",
    "        balance_sheet_data = yahoo_financials.get_financial_stmts('annual', 'balance')\n",
    "        income_sheet_data = yahoo_financials.get_financial_stmts('annual', 'income')\n",
    "        cash_sheet_data = yahoo_financials.get_financial_stmts('annual', 'cash')\n",
    "        # print(balance_sheet_data)\n",
    "\n",
    "        balanceSheet[stock] = balance_sheet_data['balanceSheetHistory'][stock]\n",
    "        incomeStatement[stock] = income_sheet_data['incomeStatementHistory'][stock]\n",
    "        cashStatement[stock] = cash_sheet_data['cashflowStatementHistory'][stock]\n",
    "    except:\n",
    "        print('Error retrieving stock data for {stock}')\n",
    "\n",
    "    return      "
   ]
  },
  {
   "attachments": {},
   "cell_type": "markdown",
   "metadata": {},
   "source": [
    "## Multithreading"
   ]
  },
  {
   "cell_type": "code",
   "execution_count": 8,
   "metadata": {},
   "outputs": [
    {
     "name": "stdout",
     "output_type": "stream",
     "text": [
      "AFAGR.HE\n",
      "AKTIA.HE\n",
      "ALISA.HE\n",
      "ALMA.HE\n",
      "ANORA.HE\n",
      "APETIT.HE\n",
      "ASPO.HE\n",
      "ACG1V.HE\n",
      "ATRAV.HE\n",
      "BIOBV.HE\n",
      "BITTI.HE\n",
      "BOREO.HE\n",
      "CAPMAN.HE\n",
      "CGCBV.HE\n",
      "CAV1V.HE\n",
      "CTY1S.HE\n",
      "CTH1V.HE\n",
      "CONSTI.HE\n",
      "DIGIA.HE\n",
      "DIGIGR.HE\n",
      "DOV1V.HE\n",
      "EEZY.HE\n",
      "ELEAV.HE\n",
      "ELISA.HE\n",
      "PAMPALO.HE\n",
      "ENEDO.HE\n",
      "ENENTO.HE\n",
      "ESENSE.HE\n",
      "EQV1V.HE\n",
      "ERIBR.HE\n",
      "ETTE.HE\n",
      "EVLI.HE\n",
      "EXL1V.HE\n",
      "FSECURE.HE\n",
      "FIA1S.HE\n",
      "FSKRS.HE\n",
      "FORTUM.HE\n",
      "GLA1V.HE\n",
      "GOFORE.HE\n",
      "HARVIA.HE\n",
      "HKSAV.HE\n",
      "HONBS.HE\n",
      "HUH1V.HE\n",
      "ILKKA1.HE\n",
      "ILKKA2.HE\n",
      "ICP1V.HE\n",
      "IFA1V.HE\n",
      "INVEST.HE\n",
      "KAMUX.HE\n",
      "KEMIRA.HE\n",
      "KSLAV.HE\n",
      "KESKOA.HE\n",
      "KESKOB.HE\n",
      "KELAS.HE\n",
      "KHG.HE\n",
      "KOJAMO.HE\n",
      "KNEBV.HE\n",
      "KCR.HE\n",
      "KOSKI.HE\n",
      "KREATE.HE\n",
      "LAT1V.HE\n",
      "LEHTO.HE\n",
      "LL1SPAC.HE\n",
      "MEKKO.HE\n",
      "MARAS.HE\n",
      "METSO.HE\n",
      "METSA.HE\n",
      "METSB.HE\n",
      "MUSTI.HE\n",
      "NESTE.HE\n",
      "NIXU.HE\n",
      "NOHO.HE\n",
      "NOKIA.HE\n",
      "TYRES.HE\n",
      "NDA FI.HE\n",
      "NLG1V.HE\n",
      "OLVAS.HE\n",
      "OMASP.HE\n",
      "OPTOMED.HE\n",
      "OKDAV.HE\n",
      "OKDBV.HE\n",
      "ORNAV.HE\n",
      "ORNBV.HE\n",
      "ORTHEX.HE\n",
      "OUT1V.HE\n",
      "OVARO.HE\n",
      "PNA1V.HE\n",
      "PIHLIS.HE\n",
      "PON1V.HE\n",
      "PUMU.HE\n",
      "PURMO.HE\n",
      "PUUILO.HE\n",
      "QPR1V.HE\n",
      "QTCOM.HE\n",
      "RAIKV.HE\n",
      "RAIVV.HE\n",
      "RAP1V.HE\n",
      "RAUTE.HE\n",
      "REKA.HE\n",
      "RELAIS.HE\n",
      "REMEDY.HE\n",
      "REG1V.HE\n",
      "ROBIT.HE\n",
      "ROVIO.HE\n",
      "SAGCV.HE\n",
      "SAMPO.HE\n",
      "SANOMA.HE\n",
      "SCANFL.HE\n",
      "SIILI.HE\n",
      "SITOWS.HE\n",
      "SOLTEQ.HE\n",
      "SOSI1.HE\n",
      "SRV1V.HE\n",
      "SSABAH.HE\n",
      "SSABBH.HE\n",
      "SSH1V.HE\n",
      "STOCKA.HE\n",
      "STEAV.HE\n",
      "STERV.HE\n",
      "SUY1V.HE\n",
      "TAALA.HE\n",
      "TNOM.HE\n",
      "TALLINK.HE\n",
      "TEM1V.HE\n",
      "TLT1V.HE\n",
      "TELIA1.HE\n",
      "TTALO.HE\n",
      "TIETO.HE\n",
      "TOKMAN.HE\n",
      "TRH1V.HE\n",
      "TULAV.HE\n",
      "UNITED.HE\n",
      "UPM.HE\n",
      "UPONOR.HE\n",
      "VAIAS.HE\n",
      "VALMT.HE\n",
      "VALOE.HE\n",
      "VERK.HE\n",
      "VIK1V.HE\n",
      "WETTERI.HE\n",
      "WITH.HE\n",
      "WUF1V.HE\n",
      "WRT1V.HE\n",
      "YIT.HE\n",
      "ALBAV.HE\n",
      "ALBBV.HE\n",
      "Time taken: 240.13798642158508s\n"
     ]
    }
   ],
   "source": [
    "start = time.time()\n",
    "\n",
    "executor = cf.ThreadPoolExecutor(16)\n",
    "\n",
    "futures = [executor.submit(retrieve_stock_data, stock) for stock in stocks]\n",
    "cf.wait(futures)\n",
    "\n",
    "end = time.time()\n",
    "print(f'Time taken: {end-start}s')"
   ]
  },
  {
   "attachments": {},
   "cell_type": "markdown",
   "metadata": {},
   "source": [
    "Save FY data to a file"
   ]
  },
  {
   "cell_type": "code",
   "execution_count": 9,
   "metadata": {},
   "outputs": [],
   "source": [
    "with open('balanceSheet_OMXH.txt', 'w') as output:\n",
    "    output.write(str(balanceSheet))\n",
    "with open('incomeStatement_OMXH.txt', 'w') as output:\n",
    "    output.write(str(incomeStatement))\n",
    "with open('cashStatement_OMXH.txt', 'w') as output:\n",
    "    output.write(str(cashStatement))"
   ]
  }
 ],
 "metadata": {
  "kernelspec": {
   "display_name": "Python 3",
   "language": "python",
   "name": "python3"
  },
  "language_info": {
   "codemirror_mode": {
    "name": "ipython",
    "version": 3
   },
   "file_extension": ".py",
   "mimetype": "text/x-python",
   "name": "python",
   "nbconvert_exporter": "python",
   "pygments_lexer": "ipython3",
   "version": "3.9.2 (tags/v3.9.2:1a79785, Feb 19 2021, 13:44:55) [MSC v.1928 64 bit (AMD64)]"
  },
  "orig_nbformat": 4,
  "vscode": {
   "interpreter": {
    "hash": "ff61477cde2a1ea476f2e0d1417e3ba8d5b99a19b8bc7df7144b7e9fe4d90617"
   }
  }
 },
 "nbformat": 4,
 "nbformat_minor": 2
}
